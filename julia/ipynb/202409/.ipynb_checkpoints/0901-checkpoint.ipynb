{
 "cells": [
  {
   "cell_type": "code",
   "execution_count": null,
   "id": "7d97783a",
   "metadata": {},
   "outputs": [],
   "source": [
    "using Printf\n",
    "\n",
    "@printf(\"%.3f\\n\", pi)\n",
    "@printf(\"%.3f\\n\", cos(3))\n",
    "@printf(\"%.3f\\n\", (1*2)/1*2 * 3)"
   ]
  },
  {
   "cell_type": "code",
   "execution_count": null,
   "id": "4f7b6fd8",
   "metadata": {},
   "outputs": [],
   "source": [
    "using Roots\n",
    "using Printf\n",
    "\n",
    "g(x) = x^2\n",
    "f(x) = g(x)^2 - 2\n",
    "\n",
    "@printf(\"%.3f\\n\", find_zero(f, 1.0))"
   ]
  },
  {
   "cell_type": "code",
   "execution_count": 3,
   "id": "7cabf50d",
   "metadata": {},
   "outputs": [
    {
     "data": {
      "text/latex": [
       "$\\left[\\begin{smallmatrix}\\operatorname{CRootOf} {\\left(6 x^{7} - 2 x^{6} + 3 x^{3} - 8, 0\\right)}\\\\\\operatorname{CRootOf} {\\left(6 x^{7} - 2 x^{6} + 3 x^{3} - 8, 1\\right)}\\\\\\operatorname{CRootOf} {\\left(6 x^{7} - 2 x^{6} + 3 x^{3} - 8, 2\\right)}\\\\\\operatorname{CRootOf} {\\left(6 x^{7} - 2 x^{6} + 3 x^{3} - 8, 3\\right)}\\\\\\operatorname{CRootOf} {\\left(6 x^{7} - 2 x^{6} + 3 x^{3} - 8, 4\\right)}\\\\\\operatorname{CRootOf} {\\left(6 x^{7} - 2 x^{6} + 3 x^{3} - 8, 5\\right)}\\\\\\operatorname{CRootOf} {\\left(6 x^{7} - 2 x^{6} + 3 x^{3} - 8, 6\\right)}\\end{smallmatrix}\\right]$"
      ],
      "text/plain": [
       "7-element Vector{Sym{PyCall.PyObject}}:\n",
       " CRootOf(6*x^7 - 2*x^6 + 3*x^3 - 8, 0)\n",
       " CRootOf(6*x^7 - 2*x^6 + 3*x^3 - 8, 1)\n",
       " CRootOf(6*x^7 - 2*x^6 + 3*x^3 - 8, 2)\n",
       " CRootOf(6*x^7 - 2*x^6 + 3*x^3 - 8, 3)\n",
       " CRootOf(6*x^7 - 2*x^6 + 3*x^3 - 8, 4)\n",
       " CRootOf(6*x^7 - 2*x^6 + 3*x^3 - 8, 5)\n",
       " CRootOf(6*x^7 - 2*x^6 + 3*x^3 - 8, 6)"
      ]
     },
     "execution_count": 3,
     "metadata": {},
     "output_type": "execute_result"
    }
   ],
   "source": [
    "using SymPy\n",
    "\n",
    "@syms x\n",
    "\n",
    "f = 6*x^7 - 2*x^6 + 3*x^3 - 8\n",
    "\n",
    "sol = SymPy.solve(f, x)\n",
    "print(sol)"
   ]
  },
  {
   "cell_type": "code",
   "execution_count": 2,
   "id": "586418bb",
   "metadata": {},
   "outputs": [
    {
     "name": "stderr",
     "output_type": "stream",
     "text": [
      "\u001b[32m\u001b[1m    Updating\u001b[22m\u001b[39m registry at `~/.julia/registries/General.toml`\n",
      "\u001b[32m\u001b[1m   Resolving\u001b[22m\u001b[39m package versions...\n",
      "\u001b[32m\u001b[1m   Installed\u001b[22m\u001b[39m SymPy ───── v2.2.0\n",
      "\u001b[32m\u001b[1m   Installed\u001b[22m\u001b[39m PyCall ──── v1.96.4\n",
      "\u001b[32m\u001b[1m   Installed\u001b[22m\u001b[39m SymPyCore ─ v0.2.5\n",
      "\u001b[32m\u001b[1m   Installed\u001b[22m\u001b[39m CommonEq ── v0.2.1\n",
      "\u001b[32m\u001b[1m    Updating\u001b[22m\u001b[39m `~/.julia/environments/v1.10/Project.toml`\n",
      "  \u001b[90m[24249f21] \u001b[39m\u001b[92m+ SymPy v2.2.0\u001b[39m\n",
      "\u001b[32m\u001b[1m    Updating\u001b[22m\u001b[39m `~/.julia/environments/v1.10/Manifest.toml`\n",
      "  \u001b[90m[3709ef60] \u001b[39m\u001b[92m+ CommonEq v0.2.1\u001b[39m\n",
      "  \u001b[90m[438e738f] \u001b[39m\u001b[92m+ PyCall v1.96.4\u001b[39m\n",
      "  \u001b[90m[24249f21] \u001b[39m\u001b[92m+ SymPy v2.2.0\u001b[39m\n",
      "  \u001b[90m[458b697b] \u001b[39m\u001b[92m+ SymPyCore v0.2.5\u001b[39m\n",
      "\u001b[32m\u001b[1m    Building\u001b[22m\u001b[39m PyCall → `~/.julia/scratchspaces/44cfe95a-1eb2-52ea-b672-e2afdf69b78f/9816a3826b0ebf49ab4926e2b18842ad8b5c8f04/build.log`\n",
      "\u001b[32m\u001b[1mPrecompiling\u001b[22m\u001b[39m project...\n",
      "\u001b[32m  ✓ \u001b[39m\u001b[90mCommonEq\u001b[39m\n",
      "\u001b[32m  ✓ \u001b[39m\u001b[90mSymPyCore\u001b[39m\n",
      "\u001b[32m  ✓ \u001b[39m\u001b[90mPyCall\u001b[39m\n",
      "\u001b[32m  ✓ \u001b[39m\u001b[90mSciMLBase → SciMLBasePyCallExt\u001b[39m\n",
      "\u001b[32m  ✓ \u001b[39mSymPy\n",
      "\u001b[32m  ✓ \u001b[39m\u001b[90mRoots → RootsSymPyExt\u001b[39m\n",
      "  6 dependencies successfully precompiled in 53 seconds. 354 already precompiled.\n",
      "  \u001b[33m1\u001b[39m dependency had output during precompilation:\u001b[33m\n",
      "┌ \u001b[39mRoots → RootsSymPyExt\u001b[33m\n",
      "│  \u001b[39m\u001b[36m\u001b[1m[ \u001b[22m\u001b[39m\u001b[36m\u001b[1mInfo: \u001b[22m\u001b[39mInstalling sympy via the Conda sympy package...\u001b[33m\n",
      "│  \u001b[39m\u001b[36m\u001b[1m[ \u001b[22m\u001b[39m\u001b[36m\u001b[1mInfo: \u001b[22m\u001b[39mRunning `conda install -y sympy` in root environment\u001b[33m\n",
      "│  \u001b[39mChannels:\u001b[33m\n",
      "│  \u001b[39m - defaults\u001b[33m\n",
      "│  \u001b[39m - conda-forge\u001b[33m\n",
      "│  \u001b[39mPlatform: osx-64\u001b[33m\n",
      "│  \u001b[39mCollecting package metadata (repodata.json): ...working... done\u001b[33m\n",
      "│  \u001b[39mSolving environment: ...working... done\u001b[33m\n",
      "│  \u001b[39m\u001b[33m\n",
      "│  \u001b[39m\u001b[33m\n",
      "│  \u001b[39m==> WARNING: A newer version of conda exists. <==\u001b[33m\n",
      "│  \u001b[39m    current version: 24.3.0\u001b[33m\n",
      "│  \u001b[39m    latest version: 24.7.1\u001b[33m\n",
      "│  \u001b[39m\u001b[33m\n",
      "│  \u001b[39mPlease update conda by running\u001b[33m\n",
      "│  \u001b[39m\u001b[33m\n",
      "│  \u001b[39m    $ conda update -n base -c conda-forge conda\u001b[33m\n",
      "│  \u001b[39m\u001b[33m\n",
      "│  \u001b[39m\u001b[33m\n",
      "│  \u001b[39m\u001b[33m\n",
      "│  \u001b[39m## Package Plan ##\u001b[33m\n",
      "│  \u001b[39m\u001b[33m\n",
      "│  \u001b[39m  environment location: /Users/motoki/.julia/conda/3/x86_64\u001b[33m\n",
      "│  \u001b[39m\u001b[33m\n",
      "│  \u001b[39m  added / updated specs:\u001b[33m\n",
      "│  \u001b[39m    - sympy\u001b[33m\n",
      "│  \u001b[39m\u001b[33m\n",
      "│  \u001b[39m\u001b[33m\n",
      "│  \u001b[39mThe following packages will be downloaded:\u001b[33m\n",
      "│  \u001b[39m\u001b[33m\n",
      "│  \u001b[39m    package                    |            build\u001b[33m\n",
      "│  \u001b[39m    ---------------------------|-----------------\u001b[33m\n",
      "│  \u001b[39m    gmp-6.2.1                  |       he9d5cce_3         525 KB\u001b[33m\n",
      "│  \u001b[39m    gmpy2-2.1.2                |  py310hd5de756_0         158 KB\u001b[33m\n",
      "│  \u001b[39m    mpc-1.1.0                  |       h6ef4df4_1          84 KB\u001b[33m\n",
      "│  \u001b[39m    mpfr-4.0.2                 |       h9066e36_1         433 KB\u001b[33m\n",
      "│  \u001b[39m    mpmath-1.3.0               |  py310hecd8cb5_0         837 KB\u001b[33m\n",
      "│  \u001b[39m    sympy-1.13.2               |  py310hecd8cb5_0        11.3 MB\u001b[33m\n",
      "│  \u001b[39m    ------------------------------------------------------------\u001b[33m\n",
      "│  \u001b[39m                                           Total:        13.3 MB\u001b[33m\n",
      "│  \u001b[39m\u001b[33m\n",
      "│  \u001b[39mThe following NEW packages will be INSTALLED:\u001b[33m\n",
      "│  \u001b[39m\u001b[33m\n",
      "│  \u001b[39m  gmp                pkgs/main/osx-64::gmp-6.2.1-he9d5cce_3 \u001b[33m\n",
      "│  \u001b[39m  gmpy2              pkgs/main/osx-64::gmpy2-2.1.2-py310hd5de756_0 \u001b[33m\n",
      "│  \u001b[39m  mpc                pkgs/main/osx-64::mpc-1.1.0-h6ef4df4_1 \u001b[33m\n",
      "│  \u001b[39m  mpfr               pkgs/main/osx-64::mpfr-4.0.2-h9066e36_1 \u001b[33m\n",
      "│  \u001b[39m  mpmath             pkgs/main/osx-64::mpmath-1.3.0-py310hecd8cb5_0 \u001b[33m\n",
      "│  \u001b[39m  sympy              pkgs/main/osx-64::sympy-1.13.2-py310hecd8cb5_0 \u001b[33m\n",
      "│  \u001b[39m\u001b[33m\n",
      "│  \u001b[39m\u001b[33m\n",
      "│  \u001b[39m\u001b[33m\n",
      "│  \u001b[39mDownloading and Extracting Packages: ...working... done\u001b[33m\n",
      "│  \u001b[39mPreparing transaction: ...working... done\u001b[33m\n",
      "│  \u001b[39mVerifying transaction: ...working... done\u001b[33m\n",
      "│  \u001b[39mExecuting transaction: ...working... done\u001b[33m\n",
      "└  \u001b[39m\n"
     ]
    }
   ],
   "source": [
    "import Pkg; Pkg.add(\"SymPy\")"
   ]
  },
  {
   "cell_type": "code",
   "execution_count": null,
   "id": "28c57376",
   "metadata": {},
   "outputs": [],
   "source": []
  }
 ],
 "metadata": {
  "kernelspec": {
   "display_name": "Julia 1.10.4",
   "language": "julia",
   "name": "julia-1.10"
  },
  "language_info": {
   "file_extension": ".jl",
   "mimetype": "application/julia",
   "name": "julia",
   "version": "1.10.4"
  }
 },
 "nbformat": 4,
 "nbformat_minor": 5
}
