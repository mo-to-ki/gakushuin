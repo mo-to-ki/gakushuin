{
 "cells": [
  {
   "cell_type": "code",
   "execution_count": null,
   "id": "7d97783a",
   "metadata": {},
   "outputs": [],
   "source": [
    "using Printf\n",
    "\n",
    "@printf(\"%.3f\\n\", pi)\n",
    "@printf(\"%.3f\\n\", cos(3))\n",
    "@printf(\"%.3f\\n\", (1*2)/1*2 * 3)"
   ]
  },
  {
   "cell_type": "code",
   "execution_count": null,
   "id": "4f7b6fd8",
   "metadata": {},
   "outputs": [],
   "source": [
    "using Roots\n",
    "using Printf\n",
    "\n",
    "g(x) = x^2\n",
    "f(x) = g(x)^2 - 2\n",
    "\n",
    "@printf(\"%.3f\\n\", find_zero(f, 1.0))"
   ]
  },
  {
   "cell_type": "code",
   "execution_count": 5,
   "id": "7cabf50d",
   "metadata": {},
   "outputs": [
    {
     "ename": "LoadError",
     "evalue": "BoundsError: attempt to access 7-element Vector{Sym{PyCall.PyObject}} at index [0]",
     "output_type": "error",
     "traceback": [
      "BoundsError: attempt to access 7-element Vector{Sym{PyCall.PyObject}} at index [0]",
      "",
      "Stacktrace:",
      " [1] getindex(A::Vector{Sym{PyCall.PyObject}}, i1::Int64)",
      "   @ Base ./essentials.jl:13",
      " [2] top-level scope",
      "   @ In[5]:8"
     ]
    }
   ],
   "source": [
    "using SymPy\n",
    "\n",
    "@syms x\n",
    "\n",
    "f = 6*x^7 - 2*x^6 + 3*x^3 - 8\n",
    "\n",
    "sol = SymPy.solve(f, x)\n"
   ]
  },
  {
   "cell_type": "code",
   "execution_count": 8,
   "id": "d2564217",
   "metadata": {},
   "outputs": [
    {
     "name": "stdout",
     "output_type": "stream",
     "text": [
      "CRootOf(6*x^7 - 2*x^6 + 3*x^3 - 8, 0)\n",
      "CRootOf(6*x^7 - 2*x^6 + 3*x^3 - 8, 1)\n",
      "CRootOf(6*x^7 - 2*x^6 + 3*x^3 - 8, 2)\n",
      "CRootOf(6*x^7 - 2*x^6 + 3*x^3 - 8, 3)\n",
      "CRootOf(6*x^7 - 2*x^6 + 3*x^3 - 8, 4)\n",
      "CRootOf(6*x^7 - 2*x^6 + 3*x^3 - 8, 5)\n",
      "CRootOf(6*x^7 - 2*x^6 + 3*x^3 - 8, 6)\n"
     ]
    }
   ],
   "source": [
    "\n",
    "for s in sol\n",
    "    println(s)\n",
    "end\n"
   ]
  },
  {
   "cell_type": "code",
   "execution_count": null,
   "id": "29919d5c",
   "metadata": {},
   "outputs": [],
   "source": []
  }
 ],
 "metadata": {
  "kernelspec": {
   "display_name": "Julia 1.10.4",
   "language": "julia",
   "name": "julia-1.10"
  },
  "language_info": {
   "file_extension": ".jl",
   "mimetype": "application/julia",
   "name": "julia",
   "version": "1.10.4"
  }
 },
 "nbformat": 4,
 "nbformat_minor": 5
}
