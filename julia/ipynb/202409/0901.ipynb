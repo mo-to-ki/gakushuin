{
 "cells": [
  {
   "cell_type": "code",
   "execution_count": 21,
   "id": "7cabf50d",
   "metadata": {},
   "outputs": [
    {
     "ename": "LoadError",
     "evalue": "SystemError: opening file \"/Users/motoki/Desktop/research/julia/ipynb/202409/image/graph.png\": No such file or directory",
     "output_type": "error",
     "traceback": [
      "SystemError: opening file \"/Users/motoki/Desktop/research/julia/ipynb/202409/image/graph.png\": No such file or directory",
      "",
      "Stacktrace:",
      "  [1] systemerror(p::String, errno::Int32; extrainfo::Nothing)",
      "    @ Base ./error.jl:176",
      "  [2] systemerror",
      "    @ ./error.jl:175 [inlined]",
      "  [3] open(fname::String; lock::Bool, read::Nothing, write::Nothing, create::Nothing, truncate::Bool, append::Nothing)",
      "    @ Base ./iostream.jl:293",
      "  [4] open",
      "    @ ./iostream.jl:275 [inlined]",
      "  [5] open(fname::String, mode::String; lock::Bool)",
      "    @ Base ./iostream.jl:356",
      "  [6] open(fname::String, mode::String)",
      "    @ Base ./iostream.jl:355",
      "  [7] open(::Plots.var\"#347#348\"{Plots.Plot{Plots.GRBackend}}, ::String, ::Vararg{String}; kwargs::@Kwargs{})",
      "    @ Base ./io.jl:394",
      "  [8] open",
      "    @ ./io.jl:393 [inlined]",
      "  [9] png(plt::Plots.Plot{Plots.GRBackend}, fn::String)",
      "    @ Plots ~/.julia/packages/Plots/ju9dp/src/output.jl:6",
      " [10] savefig(plt::Plots.Plot{Plots.GRBackend}, fn::String)",
      "    @ Plots ~/.julia/packages/Plots/ju9dp/src/output.jl:149",
      " [11] top-level scope",
      "    @ In[21]:19"
     ]
    }
   ],
   "source": [
    "using Plots\n",
    "\n",
    "plt = plot(\n",
    "    xlim=(-1.2, 1.2), ylim=(-1.2, 1.2),\n",
    "    legend=false,\n",
    "    ratio=1, # アスペクト比を指定\n",
    "    dpi=800, # 解像度を指定\n",
    ")\n",
    "\n",
    "param = 0:0.1:3 * pi\n",
    "x = [cos(t) for t in param]\n",
    "y = [sin(t) for t in param]\n",
    "plot!(plt, x, y, color=:blue)\n",
    "\n",
    "plot!(plt, [0, cos(pi/3)], [0, sin(pi/3)], color=:black)\n",
    "plot!(plt, [0, cos(-pi/3)], [0, sin(-pi/3)], color=:black, linestyle=:dash)\n",
    "plt\n",
    "\n",
    "savefig(plt, \"./image/graph.png\")"
   ]
  },
  {
   "cell_type": "code",
   "execution_count": null,
   "id": "29919d5c",
   "metadata": {},
   "outputs": [],
   "source": []
  }
 ],
 "metadata": {
  "kernelspec": {
   "display_name": "Julia 1.10.4",
   "language": "julia",
   "name": "julia-1.10"
  },
  "language_info": {
   "file_extension": ".jl",
   "mimetype": "application/julia",
   "name": "julia",
   "version": "1.10.4"
  }
 },
 "nbformat": 4,
 "nbformat_minor": 5
}
