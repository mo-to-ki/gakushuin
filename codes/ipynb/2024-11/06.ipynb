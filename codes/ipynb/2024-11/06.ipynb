{
 "cells": [
  {
   "cell_type": "code",
   "execution_count": null,
   "metadata": {},
   "outputs": [],
   "source": [
    "using QuadGK\n",
    "using Plots"
   ]
  },
  {
   "cell_type": "code",
   "execution_count": null,
   "metadata": {},
   "outputs": [
    {
     "data": {
      "text/plain": [
       "phi (generic function with 1 method)"
      ]
     },
     "execution_count": 18,
     "metadata": {},
     "output_type": "execute_result"
    }
   ],
   "source": [
    "function P(b)\n",
    "    var = b ^ 2 * sqrt( Complex(1 - (b ^ 2 / 27)) )\n",
    "    return (\n",
    "        (- b ^ 2 + var) ^ (1 / 3) + (- b ^ 2 - var) ^ (1 / 3)\n",
    "    )\n",
    "end\n",
    "\n",
    "function phi(x)\n",
    "    return 1 / sqrt( 2*x^3 - x^2 + 1/b^2 )\n",
    "end"
   ]
  },
  {
   "cell_type": "code",
   "execution_count": null,
   "metadata": {},
   "outputs": [
    {
     "data": {
      "text/plain": [
       "r_and_phi_sym (generic function with 2 methods)"
      ]
     },
     "execution_count": 41,
     "metadata": {},
     "output_type": "execute_result"
    }
   ],
   "source": [
    "function r_and_phi(b, phi_ini=pi/6)\n",
    "    diff = 1e-5\n",
    "    r_list = []\n",
    "    phi_list =[]\n",
    "    x_list = []\n",
    "    y_list = []\n",
    "    for i in 0.001:diff:real(1/P(b))\n",
    "        if i > 1/2\n",
    "            continue\n",
    "        end\n",
    "        phi_val, err = quadgk(phi, 0, i)\n",
    "        push!(r_list, 1/i)\n",
    "        push!(phi_list, phi_val + phi_ini)\n",
    "    end\n",
    "    for (phi_val, r_val) in zip(phi_list, r_list)\n",
    "        push!(x_list, r_val * cos(phi_val))\n",
    "        push!(y_list, r_val * sin(phi_val) )\n",
    "    end\n",
    "    return x_list, y_list\n",
    "end\n",
    "\n",
    "function r_and_phi_sym(b, phi_ini=pi/6)\n",
    "    diff = 0.001\n",
    "    r_list = []\n",
    "    phi_list =[]\n",
    "    x_list = []\n",
    "    y_list = []\n",
    "    phi_end = 0\n",
    "    for i in 0.001:diff:real(1/P(b))\n",
    "        phi_val, err = quadgk(phi, 0, i)\n",
    "        push!(r_list, 1/i)\n",
    "        push!(phi_list, phi_val + phi_ini)\n",
    "        phi_end = phi_val\n",
    "    end\n",
    "    for i in real(1/P(b))-diff:-diff:0.001\n",
    "        phi_val, err = quadgk(phi, 0, i)\n",
    "        push!(r_list, 1/i)\n",
    "        push!(phi_list, 2 * phi_end + pi / 6 - phi_val)\n",
    "    end\n",
    "    for (phi_val, r_val) in zip(phi_list, r_list)\n",
    "        push!(x_list, r_val * cos(phi_val))\n",
    "        push!(y_list, r_val * sin(phi_val) )\n",
    "    end\n",
    "    return x_list, y_list\n",
    "end"
   ]
  },
  {
   "cell_type": "code",
   "execution_count": 57,
   "metadata": {},
   "outputs": [
    {
     "data": {
      "text/plain": [
       "\"/Users/motoki/Desktop/mo-to-ki/research/codes/ipynb/2024-11/images/06_00.png\""
      ]
     },
     "execution_count": 57,
     "metadata": {},
     "output_type": "execute_result"
    }
   ],
   "source": [
    "plt = plot(\n",
    "    xlim=(-10, 10), ylim=(-10, 10),\n",
    "    legend=false,\n",
    "    ratio=1, # アスペクト比を指定\n",
    "    dpi=800, # 解像度を指定\n",
    "    grid=false,\n",
    "    # framestyle=:none,\n",
    ")\n",
    "theta = range(0, stop=2*pi, length=100)\n",
    "for (i, j) in zip([2, 3 * sqrt(3)], [0.6, 0.3])\n",
    "    plot!(plt, i .* cos.(theta), i .* sin.(theta), linewidth=0, fillcolor=:black, fillalpha=j, fillrange=0)\n",
    "end\n",
    "\n",
    "tmp_x_list = []\n",
    "tmp_y_list = []\n",
    "\n",
    "b = 3\n",
    "tmp_x_list, tmp_y_list = r_and_phi(b)\n",
    "plot!(plt, tmp_x_list, tmp_y_list, color=:red, linewidth=2)\n",
    "\n",
    "b = 3 * sqrt(3) + 1e-7\n",
    "tmp_x_list, tmp_y_list = r_and_phi(b)\n",
    "plot!(plt, tmp_x_list, tmp_y_list, color=:blue, linewidth=2)\n",
    "\n",
    "b = 3 * sqrt(3) + 2.1\n",
    "tmp_x_list, tmp_y_list = r_and_phi_sym(b)\n",
    "plot!(plt, tmp_x_list, tmp_y_list, color=:green, linewidth=2)\n",
    "\n",
    "savefig(plt, \"./images/06_00.png\")\n"
   ]
  },
  {
   "cell_type": "markdown",
   "metadata": {},
   "source": [
    "### $$ p \\in C $$"
   ]
  },
  {
   "cell_type": "code",
   "execution_count": 60,
   "metadata": {},
   "outputs": [
    {
     "data": {
      "text/plain": [
       "\"/Users/motoki/Desktop/mo-to-ki/research/codes/ipynb/2024-11/images/06_01.png\""
      ]
     },
     "execution_count": 60,
     "metadata": {},
     "output_type": "execute_result"
    }
   ],
   "source": [
    "plt = plot(\n",
    "    xlim=(-10, 10), ylim=(-10, 10),\n",
    "    legend=false,\n",
    "    ratio=1, # アスペクト比を指定\n",
    "    dpi=800, # 解像度を指定\n",
    "    grid=false,\n",
    "    # framestyle=:none,\n",
    ")\n",
    "theta = range(0, stop=2*pi, length=100)\n",
    "for (i, j) in zip([2, 3 * sqrt(3)], [0.6, 0.3])\n",
    "    plot!(plt, i .* cos.(theta), i .* sin.(theta), linewidth=0, fillcolor=:black, fillalpha=j, fillrange=0)\n",
    "end\n",
    "\n",
    "tmp_x_list = []\n",
    "tmp_y_list = []\n",
    "\n",
    "b = 3 * sqrt(3) + 1.\n",
    "tmp_x_list, tmp_y_list = r_and_phi_sym(b)\n",
    "plot!(plt, tmp_x_list, tmp_y_list, color=:black, linewidth=1)\n",
    "\n",
    "savefig(plt, \"./images/06_01.png\")\n"
   ]
  },
  {
   "cell_type": "markdown",
   "metadata": {},
   "source": [
    "### $$ p \\notin C $$"
   ]
  },
  {
   "cell_type": "code",
   "execution_count": null,
   "metadata": {},
   "outputs": [],
   "source": [
    "plt = plot(\n",
    "    xlim=(-10, 10), ylim=(-10, 10),\n",
    "    legend=false,\n",
    "    ratio=1, # アスペクト比を指定\n",
    "    dpi=800, # 解像度を指定\n",
    "    grid=false,\n",
    "    # framestyle=:none,\n",
    ")\n",
    "theta = range(0, stop=2*pi, length=100)\n",
    "for (i, j) in zip([2, 3 * sqrt(3)], [0.6, 0.3])\n",
    "    plot!(plt, i .* cos.(theta), i .* sin.(theta), linewidth=0, fillcolor=:black, fillalpha=j, fillrange=0)\n",
    "end\n",
    "\n",
    "tmp_x_list = []\n",
    "tmp_y_list = []\n",
    "\n",
    "b = 3 * sqrt(3) + 2.1\n",
    "tmp_x_list, tmp_y_list = r_and_phi_sym(b)\n",
    "plot!(plt, tmp_x_list, tmp_y_list, color=:black, linewidth=1)\n",
    "\n",
    "savefig(plt, \"./images/06_02.png\")\n"
   ]
  },
  {
   "cell_type": "code",
   "execution_count": null,
   "metadata": {},
   "outputs": [],
   "source": [
    "\n",
    "plt = plot(\n",
    "    xlim=(-20, 20), ylim=(-20, 20),\n",
    "    legend=false,\n",
    "    ratio=1, # アスペクト比を指定\n",
    "    dpi=800, # 解像度を指定\n",
    "    grid=false,\n",
    ")\n",
    "\n",
    "plot!(plt, x_list, y_list, color=:black, linewidth=2)\n",
    "\n",
    "savefig(plt, \"./images/06.png\")"
   ]
  }
 ],
 "metadata": {
  "kernelspec": {
   "display_name": "Julia 1.10.4",
   "language": "julia",
   "name": "julia-1.10"
  },
  "language_info": {
   "file_extension": ".jl",
   "mimetype": "application/julia",
   "name": "julia",
   "version": "1.10.4"
  }
 },
 "nbformat": 4,
 "nbformat_minor": 2
}
