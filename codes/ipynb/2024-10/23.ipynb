{
 "cells": [
  {
   "cell_type": "markdown",
   "metadata": {},
   "source": [
    "### plot_template\n",
    "\n",
    "```julia\n",
    "plt = plot(\n",
    "    xlim=(-20, 20), ylim=(-20, 20),\n",
    "    legend=false,\n",
    "    ratio=1, # アスペクト比を指定\n",
    "    dpi=800, # 解像度を指定\n",
    "    grid=false,\n",
    ")\n",
    "\n",
    "plot!(plt, x_list, y_list, color=:black, linewidth=2)\n",
    "\n",
    "if !isdir(\"23\")\n",
    "    mkdir(\"23\")\n",
    "end\n",
    "savefig(plt, \"./23/01.png\")\n",
    "```"
   ]
  },
  {
   "cell_type": "code",
   "execution_count": 1,
   "metadata": {},
   "outputs": [],
   "source": [
    "using Plots"
   ]
  },
  {
   "cell_type": "code",
   "execution_count": 86,
   "metadata": {},
   "outputs": [
    {
     "data": {
      "text/plain": [
       "calc (generic function with 1 method)"
      ]
     },
     "execution_count": 86,
     "metadata": {},
     "output_type": "execute_result"
    }
   ],
   "source": [
    "function calc()\n",
    "    x_list = []\n",
    "    y_list = []\n",
    "    diff = 1e-7\n",
    "    for i in 3*sqrt(3):diff:3*sqrt(3)+diff*1e7\n",
    "        x = i\n",
    "        y = - log( (i - 3*sqrt(3))  / 3.4823 )\n",
    "        push!(x_list, x)\n",
    "        push!(y_list, y)\n",
    "    end\n",
    "    for i in 3*sqrt(3)+diff*1e7:0.01:100\n",
    "        x = i\n",
    "        y = - log( (i - 3*sqrt(3))  / 3.4823 )\n",
    "        push!(x_list, x)\n",
    "        push!(y_list, y)\n",
    "    end\n",
    "    return x_list, y_list\n",
    "end"
   ]
  },
  {
   "cell_type": "code",
   "execution_count": 87,
   "metadata": {},
   "outputs": [
    {
     "data": {
      "text/plain": [
       "\"/Users/motoki/Desktop/mo-to-ki/research/codes/ipynb/202410/23/01.png\""
      ]
     },
     "execution_count": 87,
     "metadata": {},
     "output_type": "execute_result"
    }
   ],
   "source": [
    "plt = plot(\n",
    "    # xlim=(3*sqrt(3), 3*sqrt(3)+1e-3), ylim=(1e0, 1e2),\n",
    "    xlim=(3*sqrt(3), 5.3), ylim=(1e0, 1e2),\n",
    "    legend=false,\n",
    "    # ratio=1, # アスペクト比を指定\n",
    "    dpi=800, # 解像度を指定\n",
    "    # grid=false,\n",
    "    yscale=:log10\n",
    ")\n",
    "\n",
    "# x_list, y_list = calc()\n",
    "plot!(plt, x_list, y_list, color=:black, linewidth=2)\n",
    "\n",
    "plot!(plt, [0, 20], [2*pi, 2*pi], color=:black, linestyle=:dash)\n",
    "plot!(plt, [0, 20], [4*pi, 4*pi], color=:black, linestyle=:dash)\n",
    "\n",
    "if !isdir(\"23\")\n",
    "    mkdir(\"23\")\n",
    "end\n",
    "savefig(plt, \"./23/01.png\")"
   ]
  },
  {
   "cell_type": "code",
   "execution_count": 89,
   "metadata": {},
   "outputs": [
    {
     "data": {
      "text/plain": [
       "\"/Users/motoki/Desktop/mo-to-ki/research/codes/ipynb/202410/23/01.png\""
      ]
     },
     "execution_count": 89,
     "metadata": {},
     "output_type": "execute_result"
    }
   ],
   "source": [
    "plt = plot(\n",
    "    # xlim=(3*sqrt(3), 3*sqrt(3)+1e-3), ylim=(1e0, 1e2),\n",
    "    xlim=(3*sqrt(3), 5.3), ylim=(0, 20),\n",
    "    legend=false,\n",
    "    # ratio=1, # アスペクト比を指定\n",
    "    dpi=800, # 解像度を指定\n",
    "    # grid=false,\n",
    ")\n",
    "\n",
    "# x_list, y_list = calc()\n",
    "plot!(plt, x_list, y_list, color=:black, linewidth=2)\n",
    "\n",
    "plot!(plt, [0, 20], [2*pi, 2*pi], color=:black, linestyle=:dash)\n",
    "plot!(plt, [0, 20], [4*pi, 4*pi], color=:black, linestyle=:dash)\n",
    "\n",
    "if !isdir(\"23\")\n",
    "    mkdir(\"23\")\n",
    "end\n",
    "savefig(plt, \"./23/01.png\")"
   ]
  },
  {
   "cell_type": "code",
   "execution_count": null,
   "metadata": {},
   "outputs": [],
   "source": []
  }
 ],
 "metadata": {
  "kernelspec": {
   "display_name": "Julia 1.10.4",
   "language": "julia",
   "name": "julia-1.10"
  },
  "language_info": {
   "file_extension": ".jl",
   "mimetype": "application/julia",
   "name": "julia",
   "version": "1.10.4"
  }
 },
 "nbformat": 4,
 "nbformat_minor": 2
}
