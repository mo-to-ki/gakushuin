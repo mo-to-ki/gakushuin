{
 "cells": [
  {
   "cell_type": "code",
   "execution_count": 2,
   "metadata": {},
   "outputs": [
    {
     "data": {
      "text/plain": [
       "read_csv (generic function with 1 method)"
      ]
     },
     "execution_count": 2,
     "metadata": {},
     "output_type": "execute_result"
    }
   ],
   "source": [
    "function P(b)\n",
    "    b_norm = b / MASS\n",
    "    var_00 = b_norm ^ 2 * sqrt( Complex(1 - (b_norm ^ 2 / 27)) )\n",
    "    P_val =  (- b_norm ^ 2 + var_00) ^ (1 / 3) + (- b_norm ^ 2 - var_00) ^ (1 / 3)\n",
    "    if imag(P_val) != 0\n",
    "        return 0\n",
    "    end\n",
    "    return real(P_val)\n",
    "    # print(real(P_val))\n",
    "    # print(imag(P_val) == 0)\n",
    "    # print(typeof(P_val))\n",
    "end\n",
    "\n",
    "function read_csv(path)\n",
    "    \"\"\"\n",
    "    csvファイルを読み込む\n",
    "    \"\"\"\n",
    "    lines = readlines(path)\n",
    "    split(strip(lines[1]), \",\") # delete header\n",
    "    b_list = []\n",
    "    alpha_list = []\n",
    "    for line in lines[2:end]\n",
    "        push!(b_list, parse(Float64, split(strip(line), \",\")[1]))\n",
    "        push!(alpha_list, parse(Float64, split(strip(line), \",\")[2]))\n",
    "    end\n",
    "    return b_list, alpha_list\n",
    "end"
   ]
  },
  {
   "cell_type": "code",
   "execution_count": 21,
   "metadata": {},
   "outputs": [
    {
     "data": {
      "text/plain": [
       "\"/Users/motoki/Desktop/mo-to-ki/research/codes/ipynb/202410/images/02.png\""
      ]
     },
     "execution_count": 21,
     "metadata": {},
     "output_type": "execute_result"
    }
   ],
   "source": [
    "# initialize\n",
    "MASS = 1.0\n",
    "r = 30 * MASS\n",
    "\n",
    "phi_list = []\n",
    "phi = 0.0\n",
    "while phi <= pi\n",
    "    # phi_diff = 1 / 10 ^ ((1 + cos(phi) ^ 2) * 0.5) # 一瞬で終わらせたい場合\n",
    "    phi_diff = 1 / 10 ^ ((1 + cos(phi) ^ 2) * 1.5)\n",
    "    phi += phi_diff\n",
    "    push!(phi_list, phi)\n",
    "end\n",
    "\n",
    "b_list, alpha_list = read_csv(\"./datas/30M_0.txt\")\n",
    "frac_p_r_list = [P(b) / r for b in b_list]\n",
    "\n",
    "using Plots\n",
    "\n",
    "plt = plot(\n",
    "    xlim=(0, 3.15), ylim=(0, 2),\n",
    "    legend=false,\n",
    "    # ratio=1, # アスペクト比を指定\n",
    "    dpi=800, # 解像度を指定\n",
    "    # grid=false,\n",
    ")\n",
    "\n",
    "plot!(plt, phi_list, frac_p_r_list, color=:red, linewidth=2)\n",
    "\n",
    "savefig(plt, \"./images/02.png\")"
   ]
  },
  {
   "cell_type": "code",
   "execution_count": 5,
   "metadata": {},
   "outputs": [
    {
     "data": {
      "text/plain": [
       "\"/Users/motoki/Desktop/mo-to-ki/research/codes/ipynb/202410/images/03.png\""
      ]
     },
     "execution_count": 5,
     "metadata": {},
     "output_type": "execute_result"
    }
   ],
   "source": [
    "# initialize\n",
    "MASS = 1.0\n",
    "r = 30 * MASS\n",
    "\n",
    "phi_list = []\n",
    "phi = 0.0\n",
    "while phi <= pi\n",
    "    # phi_diff = 1 / 10 ^ ((1 + cos(phi) ^ 2) * 0.5) # 一瞬で終わらせたい場合\n",
    "    phi_diff = 1 / 10 ^ ((1 + cos(phi) ^ 2) * 1.5)\n",
    "    phi += phi_diff\n",
    "    push!(phi_list, phi)\n",
    "end\n",
    "\n",
    "b_list, alpha_list = read_csv(\"./datas/30M_1.txt\")\n",
    "frac_p_r_list = [P(b) / r for b in b_list]\n",
    "\n",
    "using Plots\n",
    "\n",
    "plt = plot(\n",
    "    xlim=(0, 3.15), ylim=(0, 2),\n",
    "    legend=false,\n",
    "    # ratio=1, # アスペクト比を指定\n",
    "    dpi=800, # 解像度を指定\n",
    "    # grid=false,\n",
    ")\n",
    "\n",
    "plot!(plt, phi_list, frac_p_r_list, color=:red, linewidth=2)\n",
    "\n",
    "savefig(plt, \"./images/03.png\")"
   ]
  },
  {
   "cell_type": "code",
   "execution_count": null,
   "metadata": {},
   "outputs": [],
   "source": []
  },
  {
   "cell_type": "code",
   "execution_count": 32,
   "metadata": {},
   "outputs": [
    {
     "name": "stdout",
     "output_type": "stream",
     "text": [
      "3.215390309173473\n",
      "0.6684139752733269\n",
      "3.4822839752981594\n"
     ]
    }
   ],
   "source": [
    "alpha_val = 12 / tan( pi / 4 + asin( sqrt( 1 / 3 ) ) / 2 ) ^ 2\n",
    "print(alpha_val, \"\\n\")\n",
    "\n",
    "beta_val = alpha_val * exp( - pi / 2 )\n",
    "print(beta_val, \"\\n\")\n",
    "\n",
    "gamma_val = 3 * sqrt(3) * 3 / 2 * beta_val ^ 2\n",
    "print(gamma_val, \"\\n\")"
   ]
  },
  {
   "cell_type": "code",
   "execution_count": 42,
   "metadata": {},
   "outputs": [
    {
     "name": "stdout",
     "output_type": "stream",
     "text": [
      "3.4822839753\n",
      "0.0065029659\n",
      "0.0000121439\n",
      "0.0000000227\n"
     ]
    }
   ],
   "source": [
    "using Formatting\n",
    "\n",
    "omega_val = gamma_val\n",
    "print(format(\"{:3.10f}\", omega_val), \"\\n\")\n",
    "\n",
    "omega_val = gamma_val * exp( - 2 * pi )\n",
    "print(format(\"{:3.10f}\", omega_val), \"\\n\")\n",
    "\n",
    "omega_val = gamma_val * exp( - 2 * 2 * pi )\n",
    "print(format(\"{:3.10f}\", omega_val), \"\\n\")\n",
    "\n",
    "omega_val = gamma_val * exp( - 2 * 3 * pi )\n",
    "print(format(\"{:3.10f}\", omega_val), \"\\n\")"
   ]
  },
  {
   "cell_type": "code",
   "execution_count": null,
   "metadata": {},
   "outputs": [],
   "source": []
  }
 ],
 "metadata": {
  "kernelspec": {
   "display_name": "Julia 1.10.4",
   "language": "julia",
   "name": "julia-1.10"
  },
  "language_info": {
   "file_extension": ".jl",
   "mimetype": "application/julia",
   "name": "julia",
   "version": "1.10.4"
  }
 },
 "nbformat": 4,
 "nbformat_minor": 2
}
