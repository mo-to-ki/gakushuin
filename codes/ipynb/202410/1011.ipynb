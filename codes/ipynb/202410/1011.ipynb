{
 "cells": [
  {
   "cell_type": "code",
   "execution_count": 9,
   "id": "1a39660f",
   "metadata": {},
   "outputs": [],
   "source": [
    "using Plots"
   ]
  },
  {
   "cell_type": "code",
   "execution_count": 49,
   "id": "7cabf50d",
   "metadata": {},
   "outputs": [
    {
     "data": {
      "text/plain": [
       "\"/Users/motoki/Desktop/research/codes/ipynb/202410/1011.png\""
      ]
     },
     "execution_count": 49,
     "metadata": {},
     "output_type": "execute_result"
    }
   ],
   "source": [
    "\n",
    "\n",
    "plt = plot(\n",
    "    xlim=(2, 15.), ylim=(-0.00, 0.07),\n",
    "    legend=false,\n",
    "    # ratio=1, # アスペクト比を指定\n",
    "    dpi=800, # 解像度を指定\n",
    ")\n",
    "\n",
    "MASS = 1\n",
    "\n",
    "x_00 = []\n",
    "y_00 = []\n",
    "y_01 = []\n",
    "y_02 = []\n",
    "\n",
    "x_list = [[], [], []]\n",
    "y_list = [[], [], []]\n",
    "k_list = [0.02, 1/27, 0.055]\n",
    "a = []\n",
    "b = []\n",
    "c = 0.02\n",
    "\n",
    "for i in 0.01:0.01:20\n",
    "    push!(x_00, i)\n",
    "    y = 1 / i ^ 2 - 2 * MASS / i ^ 3\n",
    "    push!(y_00, y)\n",
    "    \n",
    "    if c > y && i < 3\n",
    "        push!(a, c)\n",
    "        push!(b, i)\n",
    "    end\n",
    "    if k_list[1] > y && i > 3\n",
    "        push!(x_list[1], i)\n",
    "        push!(y_list[1], k_list[1])\n",
    "    end\n",
    "    for j in 2:length(k_list)\n",
    "        if k_list[j] > y\n",
    "            push!(x_list[j], i)\n",
    "            push!(y_list[j], k_list[j])\n",
    "        end\n",
    "    end\n",
    "    \n",
    "    # push!(y_01, 1 / i ^ 2)\n",
    "    # push!(y_02, - 2 * MASS / i ^ 3)\n",
    "end\n",
    "\n",
    "plot!(plt, x_00, y_00, color=:red, linewidth=3)\n",
    "plot!(plt, [3, 3], [-100, 100], color=:black, linewidth=1, linestyle=:dot)\n",
    "plot!(plt, [-100, 100], [0.02, 0.02], color=:black, linewidth=1, linestyle=:dot)\n",
    "plot!(plt, [-100, 100], [1/27, 1/27], color=:black, linewidth=1, linestyle=:dot)\n",
    "\n",
    "for (x, y) in zip(x_list, y_list)\n",
    "    plot!(plt, x, y, color=:blue, linewidth=3)\n",
    "end\n",
    "plot!(plt, b, a, color=:blue, linewidth=3)\n",
    "\n",
    "# plot!(plt, x, y_01, color=:black, linestyle=:dot)\n",
    "# plot!(plt, x, y_02, color=:black, linestyle=:dot)\n",
    "\n",
    "plt\n",
    "savefig(plt, \"./1011.png\")"
   ]
  },
  {
   "cell_type": "code",
   "execution_count": null,
   "id": "29919d5c",
   "metadata": {},
   "outputs": [],
   "source": []
  }
 ],
 "metadata": {
  "kernelspec": {
   "display_name": "Julia 1.10.4",
   "language": "julia",
   "name": "julia-1.10"
  },
  "language_info": {
   "file_extension": ".jl",
   "mimetype": "application/julia",
   "name": "julia",
   "version": "1.10.4"
  }
 },
 "nbformat": 4,
 "nbformat_minor": 5
}
