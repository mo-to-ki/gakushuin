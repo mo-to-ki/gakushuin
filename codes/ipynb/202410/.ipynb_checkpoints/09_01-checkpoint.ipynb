{
 "cells": [
  {
   "cell_type": "code",
   "execution_count": 15,
   "id": "7d97783a",
   "metadata": {},
   "outputs": [
    {
     "name": "stdout",
     "output_type": "stream",
     "text": [
      "3.142\n",
      "-0.990\n",
      "3.000\n"
     ]
    }
   ],
   "source": [
    "using Printf\n",
    "@printf(\"%.3f\\n\", pi)\n",
    "@printf(\"%.3f\\n\", cos(3))\n",
    "@printf(\"%.3f\\n\", acos(cos(3))) "
   ]
  },
  {
   "cell_type": "code",
   "execution_count": null,
   "id": "cbeaf2cb",
   "metadata": {},
   "outputs": [],
   "source": [
    "# 観測者の角度\n",
    "SITA = pi/3\n",
    "\n",
    "function caluculate_disk_image(sita, phi):\n",
    "    \"\"\"\n",
    "    Parameters\n",
    "    --------------\n",
    "    \n",
    "    Return\n",
    "    ---------\n",
    "    \n",
    "    \"\"\"\n",
    "    return \n",
    "end\n",
    "\n",
    "for phi in 0:0.01:2pi\n",
    "    cos_alpha = \n",
    "end"
   ]
  }
 ],
 "metadata": {
  "kernelspec": {
   "display_name": "Julia 1.10.4",
   "language": "julia",
   "name": "julia-1.10"
  },
  "language_info": {
   "file_extension": ".jl",
   "mimetype": "application/julia",
   "name": "julia",
   "version": "1.10.4"
  }
 },
 "nbformat": 4,
 "nbformat_minor": 5
}
