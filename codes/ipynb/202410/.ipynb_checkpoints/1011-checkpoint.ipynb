{
 "cells": [
  {
   "cell_type": "code",
   "execution_count": 9,
   "id": "95fe0de0",
   "metadata": {},
   "outputs": [],
   "source": [
    "using Plots"
   ]
  },
  {
   "cell_type": "code",
   "execution_count": 34,
   "id": "7cabf50d",
   "metadata": {},
   "outputs": [
    {
     "data": {
      "text/plain": [
       "\"/Users/motoki/Desktop/research/codes/ipynb/202410/1011.png\""
      ]
     },
     "execution_count": 34,
     "metadata": {},
     "output_type": "execute_result"
    }
   ],
   "source": [
    "\n",
    "\n",
    "plt = plot(\n",
    "    xlim=(2, 15.), ylim=(-0.00, 0.05),\n",
    "    legend=false,\n",
    "    # ratio=1, # アスペクト比を指定\n",
    "    dpi=800, # 解像度を指定\n",
    ")\n",
    "\n",
    "MASS = 1\n",
    "\n",
    "x_00 = []\n",
    "y_00 = []\n",
    "y_01 = []\n",
    "y_02 = []\n",
    "\n",
    "x_list = [[], [], []]\n",
    "y_list = [[], [], []]\n",
    "k_list = [00.2, 1/27, 0.04]\n",
    "\n",
    "for i in 0.01:0.01:20\n",
    "    push!(x_00, i)\n",
    "    y = 1 / i ^ 2 - 2 * MASS / i ^ 3\n",
    "    push!(y_00, y)\n",
    "\n",
    "    for j in 1:length(k_list)\n",
    "        if k_list[j] > y\n",
    "            push!(x_list[j], i)\n",
    "            push!(y_list[j], k_list[j])\n",
    "        end\n",
    "    end\n",
    "    \n",
    "    # push!(y_01, 1 / i ^ 2)\n",
    "    # push!(y_02, - 2 * MASS / i ^ 3)\n",
    "end\n",
    "\n",
    "plot!(plt, x_00, y_00, color=:red, linewidth=3)\n",
    "plot!(plt, [3, 3], [-100, 100], color=:black, linewidth=1, linestyle=:dot)\n",
    "plot!(plt, [-100, 100], [1/27, 1/27], color=:black, linewidth=1, linestyle=:dot)\n",
    "\n",
    "for (x, y) in zip(x_list, y_list)\n",
    "    plot!(plt, x, y, color=:red, linewidth=3)\n",
    "end\n",
    "\n",
    "# plot!(plt, x, y_01, color=:black, linestyle=:dot)\n",
    "# plot!(plt, x, y_02, color=:black, linestyle=:dot)\n",
    "\n",
    "plt\n",
    "savefig(plt, \"./1011.png\")"
   ]
  },
  {
   "cell_type": "code",
   "execution_count": null,
   "id": "29919d5c",
   "metadata": {},
   "outputs": [],
   "source": []
  }
 ],
 "metadata": {
  "kernelspec": {
   "display_name": "Julia 1.10.4",
   "language": "julia",
   "name": "julia-1.10"
  },
  "language_info": {
   "file_extension": ".jl",
   "mimetype": "application/julia",
   "name": "julia",
   "version": "1.10.4"
  }
 },
 "nbformat": 4,
 "nbformat_minor": 5
}
